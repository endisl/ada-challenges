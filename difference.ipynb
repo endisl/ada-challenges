{
 "cells": [
  {
   "cell_type": "markdown",
   "metadata": {},
   "source": [
    "### Problema\n",
    "Dado um conjunto de números inteiros positivos, desejamos achar a maior diferença entre todos os possíveis pares desses números.\n",
    "\n",
    "#### Formato de entrada\n",
    "A primeira linha contém o número N de números que formam o conjunto de entrada.\n",
    "As N linhas subsequentes contém cada uma um número n<sub>i</sub> inteiro pertencente ao conjunto.\n",
    "\n",
    "Obs: eventualmente a entrada pode conter erros.\n",
    "\n",
    "#### Formato de saída\n",
    "Escrever a maior diferença entre todos os possíveis pares de números do conjunto. Em caso de erro, a saída deve ser o número 0. A saída não deve conter espaços antes ou depois do valor da resposta!\n",
    "\n",
    "#### Restrições\n",
    "0 <= N <= 2000  \n",
    "0 <= n<sub>i</sub> <= 20000, para todo valor de i válido (0 <= i < N)"
   ]
  },
  {
   "cell_type": "markdown",
   "metadata": {},
   "source": [
    "#### Exemplos"
   ]
  },
  {
   "cell_type": "markdown",
   "metadata": {},
   "source": [
    "Exemplo de Entrada 1  \n",
    "5  \n",
    "1  \n",
    "2  \n",
    "3  \n",
    "4  \n",
    "5  \n",
    "\n",
    "Exemplo de Saída 1  \n",
    "4  \n",
    "\n",
    "Exemplo de Entrada 2  \n",
    "3  \n",
    "1000  \n",
    "10000  \n",
    "8  \n",
    "\n",
    "Exemplo de Saída 2  \n",
    "9992  "
   ]
  },
  {
   "cell_type": "markdown",
   "metadata": {},
   "source": [
    "#### EN"
   ]
  },
  {
   "cell_type": "markdown",
   "metadata": {},
   "source": [
    "Problem  \n",
    "Given a set of positive integers, we want to find the greatest difference between all possible pairs of those numbers.  \n",
    "\n",
    "Input format  \n",
    "The first line contains the number N of numbers that form the input set. Each of the subsequent N lines contains an integer n<sub>i</sub> belonging to the set.  \n",
    "\n",
    "Note: the input may possibly contain errors.  \n",
    "\n",
    "Output format  \n",
    "Write the greatest difference between all possible pairs of numbers in the set. In case of an error, the output must be 0. The output must not contain spaces before or after the answer!  \n",
    "\n",
    "Restrictions  \n",
    "0 <= N <= 2000  \n",
    "0 <= n<sub>i</sub> <= 20000, for every valid value of i (0 <= i < N)  \n",
    "\n",
    "Input Sample 1  \n",
    "5  \n",
    "1  \n",
    "2  \n",
    "3  \n",
    "4  \n",
    "5  \n",
    "\n",
    "Output Sample 1  \n",
    "4  \n",
    "\n",
    "Input Sample 2  \n",
    "3  \n",
    "1000  \n",
    "10000  \n",
    "8  \n",
    "\n",
    "Output Sample 2  \n",
    "9992  "
   ]
  }
 ],
 "metadata": {
  "kernelspec": {
   "display_name": "Python 3",
   "language": "python",
   "name": "python3"
  },
  "language_info": {
   "codemirror_mode": {
    "name": "ipython",
    "version": 3
   },
   "file_extension": ".py",
   "mimetype": "text/x-python",
   "name": "python",
   "nbconvert_exporter": "python",
   "pygments_lexer": "ipython3",
   "version": "3.6.5"
  }
 },
 "nbformat": 4,
 "nbformat_minor": 2
}
